{
 "cells": [
  {
   "cell_type": "code",
   "execution_count": 52,
   "metadata": {},
   "outputs": [],
   "source": [
    "import pandas as pd\n",
    "Data = pd.read_csv('C:/Users/muneeba/Desktop/THESIS/DataDistributionPCA.csv')\n",
    "Data=Data.sort_values(['Sensor ID'],ascending=[True])\n",
    "Data1=Data.iloc[:,4:68]\n",
    "Data1.head()\n",
    "returns = Data1[[key for key in dict(Data1.dtypes) if dict(Data1.dtypes)[key] in ['float64', 'int64']]] \n",
    "returns = returns[:64]\n",
    "returns.head()\n",
    "#slicing the required data out of complete dataset\n",
    "returns_arr = returns.as_matrix()[:64]\n",
    "returns_arr.shape\n",
    "from sklearn.preprocessing import StandardScaler\n",
    "scaler = StandardScaler()\n",
    "returns_arr_scaled = scaler.fit_transform(returns_arr)\n",
    "#logdir = r'C:/Users/muneeba/Desktop/THESIS/logdir'"
   ]
  },
  {
   "cell_type": "markdown",
   "metadata": {},
   "source": [
    "Set up the TensorFlow code for an Autoencoder\n",
    "The number of inputs of the auto-encoder is equal to the number of outputs (number of columns in our input data)\n",
    "We have one hidden layer with 3 neurons\n",
    "Use an AdamOptimizer to minimize the loss\n",
    "Notice that:\n",
    "The reconstruction loss of the output is the mean-square error\n",
    "Each layer has no activation function i.e is a linear layer\n",
    "An Autoencoder set up this way simply performs a PCA"
   ]
  },
  {
   "cell_type": "code",
   "execution_count": 53,
   "metadata": {
    "collapsed": true
   },
   "outputs": [],
   "source": [
    "import tensorflow as tf\n",
    "\n",
    "n_inputs = 64\n",
    "n_hidden = 3  # codings\n",
    "n_outputs = n_inputs\n",
    "\n",
    "learning_rate = 0.01 #how much to train \n",
    "tf.reset_default_graph()\n",
    "\n",
    "X = tf.placeholder(tf.float32, shape=[None, n_inputs])\n",
    "hidden = tf.layers.dense(X, n_hidden)\n",
    "outputs = tf.layers.dense(hidden, n_outputs)\n",
    "\n",
    "reconstruction_loss = tf.reduce_mean(tf.square(outputs - X))\n",
    "\n",
    "optimizer = tf.train.AdamOptimizer(learning_rate)\n",
    "training_op = optimizer.minimize(reconstruction_loss)\n",
    "\n",
    "init = tf.global_variables_initializer()\n",
    "\n",
    "\n"
   ]
  },
  {
   "cell_type": "markdown",
   "metadata": {},
   "source": [
    "Run the training data through the Autoencoder\n",
    "We do not use any labels for this training only the input data\n",
    "The output is the reconstructed value using only the 3 principal components\n",
    "Note that the reconstruction will not be equal to the input data"
   ]
  },
  {
   "cell_type": "code",
   "execution_count": 54,
   "metadata": {},
   "outputs": [
    {
     "name": "stdout",
     "output_type": "stream",
     "text": [
      "[[ 0.98170203  0.99483538  1.0264951  ...,  0.80608475  0.62092239\n",
      "   0.43926886]\n",
      " [ 0.68050206  0.69133967  0.71772844 ...,  0.75056088  0.60264355\n",
      "   0.45749852]\n",
      " [-0.3122336  -0.30895546 -0.2999765  ...,  0.57056665  0.54477894\n",
      "   0.51941514]\n",
      " ..., \n",
      " [-0.21985134 -0.21630879 -0.19744173 ...,  0.16433796  0.22465159\n",
      "   0.27242345]\n",
      " [ 0.9832322   0.99500418  1.05217648 ..., -0.50169253 -0.38587821\n",
      "  -0.30726635]\n",
      " [ 1.19695795  1.21011639  1.27378035 ..., -0.6235131  -0.49818021\n",
      "  -0.41427737]]\n"
     ]
    }
   ],
   "source": [
    "n_iterations = 10000\n",
    "\n",
    "with tf.Session() as sess:\n",
    "    init.run()\n",
    "    for iteration in range(n_iterations):\n",
    "        training_op.run(feed_dict={X: returns_arr_scaled})\n",
    "    writer = tf.summary.FileWriter('./temp', sess.graph)\n",
    "    outputs_val = outputs.eval(feed_dict={X: returns_arr_scaled})\n",
    "    print(outputs_val)"
   ]
  },
  {
   "cell_type": "code",
   "execution_count": 55,
   "metadata": {},
   "outputs": [
    {
     "data": {
      "text/plain": [
       "0.00018285232327918362"
      ]
     },
     "execution_count": 55,
     "metadata": {},
     "output_type": "execute_result"
    }
   ],
   "source": [
    "import numpy as np\n",
    "data=scaler.inverse_transform(outputs_val,copy=None)\n",
    "#recovered\n",
    "#data\n",
    "orig=np.linalg.norm(outputs_val,ord=1)\n",
    "DiffData=data-returns_arr\n",
    "NewNorm=np.linalg.norm(DiffData,ord=1)\n",
    "error=NewNorm/orig \n",
    "error\n",
    "#recovering the orignal dat"
   ]
  },
  {
   "cell_type": "code",
   "execution_count": 56,
   "metadata": {},
   "outputs": [],
   "source": [
    "#building stacked autoencoders\n",
    "n_inputs = 64\n",
    "n_hidden1 = 14\n",
    "n_hidden2 = 3 # codings\n",
    "n_hidden3 = n_hidden1\n",
    "n_outputs = n_inputs"
   ]
  },
  {
   "cell_type": "code",
   "execution_count": 57,
   "metadata": {},
   "outputs": [],
   "source": [
    "he_init = tf.contrib.layers.variance_scaling_initializer()\n",
    "l2_regularizer = tf.contrib.layers.l2_regularizer(0.0001)"
   ]
  },
  {
   "cell_type": "code",
   "execution_count": 58,
   "metadata": {
    "collapsed": true
   },
   "outputs": [],
   "source": [
    "X = tf.placeholder(tf.float32, shape=[None, n_inputs])"
   ]
  },
  {
   "cell_type": "code",
   "execution_count": 59,
   "metadata": {},
   "outputs": [
    {
     "name": "stdout",
     "output_type": "stream",
     "text": [
      "Tensor(\"dense_3/Elu:0\", shape=(?, 3), dtype=float32)\n"
     ]
    }
   ],
   "source": [
    "from functools import partial\n",
    "\n",
    "dense_layer = partial(tf.layers.dense,\n",
    "                      activation=tf.nn.elu,\n",
    "                      kernel_initializer=he_init,\n",
    "                      kernel_regularizer=l2_regularizer)\n",
    "\n",
    "hidden1 = dense_layer(X, n_hidden1)\n",
    "hidden2 = dense_layer(hidden1, n_hidden2)\n",
    "hidden3 = dense_layer(hidden2, n_hidden3)\n",
    "outputs = dense_layer(hidden3, n_outputs, activation=None)\n",
    "print(hidden2)"
   ]
  },
  {
   "cell_type": "code",
   "execution_count": 60,
   "metadata": {
    "collapsed": true
   },
   "outputs": [],
   "source": [
    "reconstruction_loss = tf.reduce_mean(tf.square(outputs - X))\n",
    "\n",
    "reg_losses = tf.get_collection(tf.GraphKeys.REGULARIZATION_LOSSES)\n",
    "loss = tf.add_n([reconstruction_loss] + reg_losses)\n",
    "\n",
    "optimizer = tf.train.AdamOptimizer(0.01)\n",
    "training_op = optimizer.minimize(loss)\n",
    "\n",
    "init = tf.global_variables_initializer()"
   ]
  },
  {
   "cell_type": "code",
   "execution_count": 61,
   "metadata": {
    "collapsed": true
   },
   "outputs": [],
   "source": [
    "saver = tf.train.Saver()"
   ]
  },
  {
   "cell_type": "code",
   "execution_count": 62,
   "metadata": {},
   "outputs": [
    {
     "name": "stdout",
     "output_type": "stream",
     "text": [
      "[[ 0.97946882  0.992661    1.02458549 ...,  0.81081712  0.62604719\n",
      "   0.44461855]\n",
      " [ 0.67783952  0.68872225  0.7153101  ...,  0.7553196   0.60763907\n",
      "   0.46261394]\n",
      " [-0.3143566  -0.31106633 -0.30200922 ...,  0.57286525  0.54724216\n",
      "   0.52199876]\n",
      " ..., \n",
      " [-0.21983463 -0.21632957 -0.19760746 ...,  0.16304553  0.2231558\n",
      "   0.27080807]\n",
      " [ 0.98651946  0.99818194  1.05489111 ..., -0.50786716 -0.39281976\n",
      "  -0.31472552]\n",
      " [ 1.2012881   1.2143501   1.27759659 ..., -0.62946761 -0.50494736\n",
      "  -0.42162651]]\n"
     ]
    }
   ],
   "source": [
    "n_iterations = 10000\n",
    "\n",
    "with tf.Session() as sess:\n",
    "    init.run()\n",
    "    for iteration in range(n_iterations):\n",
    "        training_op.run(feed_dict={X: returns_arr_scaled})\n",
    "    writer = tf.summary.FileWriter('./temp', sess.graph)\n",
    "    outputs_val = outputs.eval(feed_dict={X: returns_arr_scaled})\n",
    "    print(outputs_val)"
   ]
  },
  {
   "cell_type": "code",
   "execution_count": 63,
   "metadata": {},
   "outputs": [
    {
     "data": {
      "text/plain": [
       "0.0001994338265556331"
      ]
     },
     "execution_count": 63,
     "metadata": {},
     "output_type": "execute_result"
    }
   ],
   "source": [
    "import numpy as np\n",
    "data=scaler.inverse_transform(outputs_val,copy=None)\n",
    "#recovered\n",
    "#data\n",
    "orig=np.linalg.norm(outputs_val,ord=1)\n",
    "DiffData=data-returns_arr\n",
    "NewNorm=np.linalg.norm(DiffData,ord=1)\n",
    "error=NewNorm/orig \n",
    "error\n",
    "#recovering the orignal dat"
   ]
  },
  {
   "cell_type": "code",
   "execution_count": null,
   "metadata": {
    "collapsed": true
   },
   "outputs": [],
   "source": []
  },
  {
   "cell_type": "code",
   "execution_count": null,
   "metadata": {
    "collapsed": true
   },
   "outputs": [],
   "source": []
  }
 ],
 "metadata": {
  "kernelspec": {
   "display_name": "Python 3",
   "language": "python",
   "name": "python3"
  },
  "language_info": {
   "codemirror_mode": {
    "name": "ipython",
    "version": 3
   },
   "file_extension": ".py",
   "mimetype": "text/x-python",
   "name": "python",
   "nbconvert_exporter": "python",
   "pygments_lexer": "ipython3",
   "version": "3.6.3"
  }
 },
 "nbformat": 4,
 "nbformat_minor": 2
}
