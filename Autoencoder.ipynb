{
 "cells": [
  {
   "cell_type": "code",
   "execution_count": 2,
   "metadata": {
    "collapsed": true
   },
   "outputs": [],
   "source": [
    "import pandas as pd\n",
    "Data = pd.read_csv('C:/Users/muneeba/Desktop/THESIS/DataDistributionPCA.csv')\n",
    "Data=Data.sort_values(['Sensor ID'],ascending=[True])\n",
    "Data1=Data.iloc[:,4:68]\n",
    "Data1.head()\n",
    "returns = Data1[[key for key in dict(Data1.dtypes) if dict(Data1.dtypes)[key] in ['float64', 'int64']]] \n",
    "returns = returns[:64]\n",
    "returns.head()\n",
    "#slicing the required data out of complete dataset\n",
    "returns_arr = returns.as_matrix()[:64]\n",
    "returns_arr.shape\n",
    "from sklearn.preprocessing import StandardScaler\n",
    "scaler = StandardScaler()\n",
    "returns_arr_scaled = scaler.fit_transform(returns_arr)\n",
    " "
   ]
  },
  {
   "cell_type": "markdown",
   "metadata": {},
   "source": [
    "Set up the TensorFlow code for an Autoencoder\n",
    "The number of inputs of the auto-encoder is equal to the number of outputs (number of columns in our input data)\n",
    "We have one hidden layer with 3 neurons\n",
    "Use an AdamOptimizer to minimize the loss\n",
    "Notice that:\n",
    "The reconstruction loss of the output is the mean-square error\n",
    "Each layer has no activation function i.e is a linear layer\n",
    "An Autoencoder set up this way simply performs a PCA"
   ]
  },
  {
   "cell_type": "code",
   "execution_count": 3,
   "metadata": {
    "collapsed": true
   },
   "outputs": [],
   "source": [
    "import tensorflow as tf\n",
    "\n",
    "n_inputs = 64\n",
    "n_hidden = 3  # codings\n",
    "n_outputs = n_inputs\n",
    "\n",
    "learning_rate = 0.01 #how much to train \n",
    "tf.reset_default_graph()\n",
    "\n",
    "X = tf.placeholder(tf.float32, shape=[None, n_inputs])\n",
    "hidden = tf.layers.dense(X, n_hidden)\n",
    "outputs = tf.layers.dense(hidden, n_outputs)\n",
    "\n",
    "reconstruction_loss = tf.reduce_mean(tf.square(outputs - X))\n",
    "\n",
    "optimizer = tf.train.AdamOptimizer(learning_rate)\n",
    "training_op = optimizer.minimize(reconstruction_loss)\n",
    "\n",
    "init = tf.global_variables_initializer()\n",
    "\n",
    "\n"
   ]
  },
  {
   "cell_type": "markdown",
   "metadata": {},
   "source": [
    "Run the training data through the Autoencoder\n",
    "We do not use any labels for this training only the input data\n",
    "The output is the reconstructed value using only the 3 principal components\n",
    "Note that the reconstruction will not be equal to the input data"
   ]
  },
  {
   "cell_type": "code",
   "execution_count": 4,
   "metadata": {},
   "outputs": [
    {
     "name": "stdout",
     "output_type": "stream",
     "text": [
      "[[ 0.98040682  0.99364817  1.02573681 ...,  0.81256473  0.62767929\n",
      "   0.44613647]\n",
      " [ 0.6797722   0.69068623  0.71737629 ...,  0.75497282  0.60723722\n",
      "   0.46216038]\n",
      " [-0.31247959 -0.30916569 -0.30005044 ...,  0.57260543  0.54688966\n",
      "   0.52154511]\n",
      " ..., \n",
      " [-0.21827975 -0.21476582 -0.19601636 ...,  0.16171642  0.22193621\n",
      "   0.26965544]\n",
      " [ 0.98809898  0.99974483  1.05642486 ..., -0.51198232 -0.39647359\n",
      "  -0.31798971]\n",
      " [ 1.20264792  1.21568251  1.2788527  ..., -0.63386345 -0.5089348\n",
      "  -0.42525342]]\n"
     ]
    }
   ],
   "source": [
    "n_iterations = 10000\n",
    "\n",
    "with tf.Session() as sess:\n",
    "    init.run()\n",
    "    for iteration in range(n_iterations):\n",
    "        training_op.run(feed_dict={X: returns_arr_scaled})\n",
    "    writer = tf.summary.FileWriter('./temp', sess.graph)\n",
    "    outputs_val = outputs.eval(feed_dict={X: returns_arr_scaled})\n",
    "    print(outputs_val)"
   ]
  },
  {
   "cell_type": "code",
   "execution_count": 5,
   "metadata": {},
   "outputs": [
    {
     "data": {
      "text/plain": [
       "0.00018632269415328148"
      ]
     },
     "execution_count": 5,
     "metadata": {},
     "output_type": "execute_result"
    }
   ],
   "source": [
    "import numpy as np\n",
    "data=scaler.inverse_transform(outputs_val,copy=None)\n",
    "#recovered\n",
    "#data\n",
    "orig=np.linalg.norm(outputs_val,ord=1)\n",
    "DiffData=data-returns_arr\n",
    "NewNorm=np.linalg.norm(DiffData,ord=1)\n",
    "error=NewNorm/orig \n",
    "error\n",
    "#recovering the orignal dat"
   ]
  },
  {
   "cell_type": "code",
   "execution_count": 6,
   "metadata": {
    "collapsed": true
   },
   "outputs": [],
   "source": [
    "#building stacked autoencoders\n",
    "n_inputs = 64\n",
    "n_hidden1 = 14\n",
    "n_hidden2 = 3 # codings\n",
    "n_hidden3 = n_hidden1\n",
    "n_outputs = n_inputs"
   ]
  },
  {
   "cell_type": "code",
   "execution_count": 7,
   "metadata": {},
   "outputs": [
    {
     "name": "stdout",
     "output_type": "stream",
     "text": [
      "WARNING:tensorflow:From C:\\Users\\muneeba\\Anaconda3\\lib\\site-packages\\tensorflow\\contrib\\learn\\python\\learn\\datasets\\base.py:198: retry (from tensorflow.contrib.learn.python.learn.datasets.base) is deprecated and will be removed in a future version.\n",
      "Instructions for updating:\n",
      "Use the retry module or similar alternatives.\n"
     ]
    }
   ],
   "source": [
    "he_init = tf.contrib.layers.variance_scaling_initializer()\n",
    "l2_regularizer = tf.contrib.layers.l2_regularizer(0.0001)"
   ]
  },
  {
   "cell_type": "code",
   "execution_count": 8,
   "metadata": {
    "collapsed": true
   },
   "outputs": [],
   "source": [
    "X = tf.placeholder(tf.float32, shape=[None, n_inputs])"
   ]
  },
  {
   "cell_type": "code",
   "execution_count": 9,
   "metadata": {},
   "outputs": [
    {
     "name": "stdout",
     "output_type": "stream",
     "text": [
      "Tensor(\"dense_3/Elu:0\", shape=(?, 3), dtype=float32)\n"
     ]
    }
   ],
   "source": [
    "from functools import partial\n",
    "\n",
    "dense_layer = partial(tf.layers.dense,\n",
    "                      activation=tf.nn.elu,\n",
    "                      kernel_initializer=he_init,\n",
    "                      kernel_regularizer=l2_regularizer)\n",
    "\n",
    "hidden1 = dense_layer(X, n_hidden1)\n",
    "hidden2 = dense_layer(hidden1, n_hidden2)\n",
    "hidden3 = dense_layer(hidden2, n_hidden3)\n",
    "outputs = dense_layer(hidden3, n_outputs, activation=None)\n",
    "print(hidden2)"
   ]
  },
  {
   "cell_type": "code",
   "execution_count": 10,
   "metadata": {
    "collapsed": true
   },
   "outputs": [],
   "source": [
    "reconstruction_loss = tf.reduce_mean(tf.square(outputs - X))\n",
    "\n",
    "reg_losses = tf.get_collection(tf.GraphKeys.REGULARIZATION_LOSSES)\n",
    "loss = tf.add_n([reconstruction_loss] + reg_losses)\n",
    "\n",
    "optimizer = tf.train.AdamOptimizer(0.01)\n",
    "training_op = optimizer.minimize(loss)\n",
    "\n",
    "init = tf.global_variables_initializer()"
   ]
  },
  {
   "cell_type": "code",
   "execution_count": 11,
   "metadata": {
    "collapsed": true
   },
   "outputs": [],
   "source": [
    "saver = tf.train.Saver()"
   ]
  },
  {
   "cell_type": "code",
   "execution_count": 12,
   "metadata": {},
   "outputs": [
    {
     "name": "stdout",
     "output_type": "stream",
     "text": [
      "[[ 0.97932196  0.99252629  1.02435338 ...,  0.80865395  0.62405938\n",
      "   0.44288248]\n",
      " [ 0.67745268  0.68834722  0.71484888 ...,  0.75381565  0.60625571\n",
      "   0.4614222 ]\n",
      " [-0.31526834 -0.31197777 -0.30297613 ...,  0.57254219  0.54695767\n",
      "   0.52179903]\n",
      " ..., \n",
      " [-0.22034711 -0.21683449 -0.19816804 ...,  0.16288751  0.22296107\n",
      "   0.27061096]\n",
      " [ 0.98847103  1.00021243  1.05697787 ..., -0.50809973 -0.39299572\n",
      "  -0.31488043]\n",
      " [ 1.20391178  1.2170682   1.28039885 ..., -0.62970054 -0.50511885\n",
      "  -0.42178565]]\n"
     ]
    }
   ],
   "source": [
    "n_iterations = 10000\n",
    "\n",
    "with tf.Session() as sess:\n",
    "    init.run()\n",
    "    for iteration in range(n_iterations):\n",
    "        training_op.run(feed_dict={X: returns_arr_scaled})\n",
    "    writer = tf.summary.FileWriter('./temp', sess.graph)\n",
    "    outputs_val = outputs.eval(feed_dict={X: returns_arr_scaled})\n",
    "    print(outputs_val)"
   ]
  },
  {
   "cell_type": "code",
   "execution_count": 13,
   "metadata": {},
   "outputs": [
    {
     "data": {
      "text/plain": [
       "0.00022331585682723102"
      ]
     },
     "execution_count": 13,
     "metadata": {},
     "output_type": "execute_result"
    }
   ],
   "source": [
    "import numpy as np\n",
    "data=scaler.inverse_transform(outputs_val,copy=None)\n",
    "#recovered\n",
    "#data\n",
    "orig=np.linalg.norm(outputs_val,ord=1)\n",
    "DiffData=data-returns_arr\n",
    "NewNorm=np.linalg.norm(DiffData,ord=1)\n",
    "error=NewNorm/orig \n",
    "error\n",
    "#recovering the orignal dat"
   ]
  },
  {
   "cell_type": "code",
   "execution_count": null,
   "metadata": {
    "collapsed": true
   },
   "outputs": [],
   "source": []
  },
  {
   "cell_type": "code",
   "execution_count": null,
   "metadata": {
    "collapsed": true
   },
   "outputs": [],
   "source": []
  }
 ],
 "metadata": {
  "kernelspec": {
   "display_name": "Python 3",
   "language": "python",
   "name": "python3"
  },
  "language_info": {
   "codemirror_mode": {
    "name": "ipython",
    "version": 3
   },
   "file_extension": ".py",
   "mimetype": "text/x-python",
   "name": "python",
   "nbconvert_exporter": "python",
   "pygments_lexer": "ipython3",
   "version": "3.6.3"
  }
 },
 "nbformat": 4,
 "nbformat_minor": 2
}
