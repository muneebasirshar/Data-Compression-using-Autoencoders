{
 "cells": [
  {
   "cell_type": "code",
   "execution_count": 167,
   "metadata": {},
   "outputs": [],
   "source": [
    "import pandas as pd\n",
    "import tensorflow as tf\n",
    "import numpy as np\n",
    "from __future__ import absolute_import, division, print_function\n",
    "import sklearn\n",
    "from sklearn.model_selection import train_test_split\n",
    " \n",
    "    "
   ]
  },
  {
   "cell_type": "code",
   "execution_count": 224,
   "metadata": {},
   "outputs": [],
   "source": [
    "Data=pd.read_csv('C:/Users/muneeba/Desktop/THESIS/DataDistributionPCA.csv')\n",
    "Dataval=Data.iloc[:,4:69]\n",
    "Dataval=Dataval[:64]\n",
    "ylabel=Data.iloc[:,0:1]\n",
    "ylabel=ylabel[:64]"
   ]
  },
  {
   "cell_type": "code",
   "execution_count": 225,
   "metadata": {
    "collapsed": true
   },
   "outputs": [],
   "source": [
    "def multilayer_dnn(X):\n",
    "    fc1=tf.layers.dense(X,14,activation=tf.nn.relu)\n",
    "    fc2=tf.layers.dense(fc1,3,activation=tf.nn.relu)\n",
    "    out=tf.layers.dense(fc2,64,activation=None)\n",
    "    return out,fc2,fc1"
   ]
  },
  {
   "cell_type": "code",
   "execution_count": 226,
   "metadata": {},
   "outputs": [],
   "source": [
    "X=tf.placeholder(tf.float32, shape=[None, 64])\n",
    "y=tf.placeholder(tf.float32, shape=[None, 64])"
   ]
  },
  {
   "cell_type": "code",
   "execution_count": 227,
   "metadata": {},
   "outputs": [],
   "source": [
    "logits, fc1, fc2=multilayer_dnn(X)\n",
    "xentropy=tf.nn.softmax_cross_entropy_with_logits_v2(logits=logits,labels=y)\n",
    "loss=tf.reduce_mean(xentropy)\n",
    "optimizer=tf.train.AdamOptimizer(0.001)\n",
    "training_op=optimizer.minimize(loss)"
   ]
  },
  {
   "cell_type": "code",
   "execution_count": 228,
   "metadata": {},
   "outputs": [],
   "source": [
    "correct=tf.equal(tf.argmax(logits,1), tf.argmax(y,1))\n",
    "accuracy=tf.reduce_mean(tf.cast(correct, tf.float32))\n",
    "init = tf.global_variables_initializer()\n",
    "n_epochs = 5\n",
    "batch_size = 10\n",
    " \n",
    "x1=Dataval.iloc[:,0:64]\n",
    "ylabel=Dataval.iloc[:,64]\n",
    " "
   ]
  },
  {
   "cell_type": "code",
   "execution_count": 230,
   "metadata": {},
   "outputs": [
    {
     "ename": "SyntaxError",
     "evalue": "invalid syntax (<ipython-input-230-4ba030f4215c>, line 19)",
     "output_type": "error",
     "traceback": [
      "\u001b[1;36m  File \u001b[1;32m\"<ipython-input-230-4ba030f4215c>\"\u001b[1;36m, line \u001b[1;32m19\u001b[0m\n\u001b[1;33m    feed_dict={X: x1, y: y;label})\u001b[0m\n\u001b[1;37m                          ^\u001b[0m\n\u001b[1;31mSyntaxError\u001b[0m\u001b[1;31m:\u001b[0m invalid syntax\n"
     ]
    }
   ],
   "source": [
    "with tf.Session() as sess:\n",
    "    init.run()\n",
    "    for epoch in range(n_epochs):\n",
    "\n",
    "        num_iterations =  5\n",
    "        for iteration in range(num_iterations):\n",
    "            X_batch, y_batch = x1, ylabel\n",
    "            _, loss_eval, fc1_eval, fc2_eval, logits_eval = \\\n",
    "               sess.run([training_op, loss, fc1, fc2, logits],\n",
    "                     feed_dict={X: X_batch, y: y_batch})\n",
    "            if iteration == num_iterations - 1:\n",
    "                print(\"Layer            :  Mean     Standard Deviation\")\n",
    "                print(\"Fully connected 1: \", fc1_eval.mean(), fc1_eval.std())\n",
    "                print(\"Fully connected 2: \", fc2_eval.mean(), fc2_eval.std())\n",
    "\n",
    "\n",
    "            acc_train = accuracy.eval(\n",
    "                feed_dict={X: X_batch, y: y_batch})\n",
    "            acc_test = accuracy.eval(\n",
    "                feed_dict={X: x1, y: y:label})\n",
    "\n",
    "            print(epoch, \"Train accuracy:\", acc_train, \"Test accuracy:\", acc_test)\n",
    "            print()\n",
    "\n"
   ]
  },
  {
   "cell_type": "code",
   "execution_count": null,
   "metadata": {},
   "outputs": [],
   "source": []
  },
  {
   "cell_type": "code",
   "execution_count": null,
   "metadata": {
    "collapsed": true
   },
   "outputs": [],
   "source": []
  }
 ],
 "metadata": {
  "kernelspec": {
   "display_name": "Python 3",
   "language": "python",
   "name": "python3"
  },
  "language_info": {
   "codemirror_mode": {
    "name": "ipython",
    "version": 3
   },
   "file_extension": ".py",
   "mimetype": "text/x-python",
   "name": "python",
   "nbconvert_exporter": "python",
   "pygments_lexer": "ipython3",
   "version": "3.6.3"
  }
 },
 "nbformat": 4,
 "nbformat_minor": 2
}
