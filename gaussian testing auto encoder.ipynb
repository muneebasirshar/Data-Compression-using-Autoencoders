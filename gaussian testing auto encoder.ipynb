{
 "cells": [
  {
   "cell_type": "code",
   "execution_count": 49,
   "metadata": {},
   "outputs": [
    {
     "name": "stdout",
     "output_type": "stream",
     "text": [
      "2D Gaussian-like array:\n",
      "[[ 0.98629345  0.96685871  0.9480586  ...,  0.9480586   0.96685871\n",
      "   0.98629345]\n",
      " [ 0.96685871  0.94743209  0.92864183 ...,  0.92864183  0.94743209\n",
      "   0.96685871]\n",
      " [ 0.9480586   0.92864183  0.9098628  ...,  0.9098628   0.92864183\n",
      "   0.9480586 ]\n",
      " ..., \n",
      " [ 0.9480586   0.92864183  0.9098628  ...,  0.9098628   0.92864183\n",
      "   0.9480586 ]\n",
      " [ 0.96685871  0.94743209  0.92864183 ...,  0.92864183  0.94743209\n",
      "   0.96685871]\n",
      " [ 0.98629345  0.96685871  0.9480586  ...,  0.9480586   0.96685871\n",
      "   0.98629345]]\n"
     ]
    }
   ],
   "source": [
    "import numpy as np\n",
    "from sklearn.preprocessing import StandardScaler\n",
    "scaler = StandardScaler()\n",
    "import math as mt\n",
    "noise = np.random.normal(0, 1, [64])\n",
    "x, y = np.meshgrid(np.linspace(-1,1,64), np.linspace(-1,1,64))\n",
    "d = np.sqrt(x*x+y*y)\n",
    "sigma, mu = 1.0, 3.0\n",
    "g1 = np.exp(-( (d-mu)**2 / ( 2.0 * sigma**2 ) ) )\n",
    "x2, y2 = np.meshgrid(np.linspace(-1,1,64), np.linspace(-1,1,64))\n",
    "d2= np.sqrt(x2*x2+y2*y2)\n",
    "sigma2, mu2 = 2.0, 5.0\n",
    "g2 = np.exp(-( (d2-mu2)**2 / ( 2.0 * sigma2**2 ) ) )\n",
    "x3, y3 = np.meshgrid(np.linspace(-1,1,64), np.linspace(-1,1,64))\n",
    "d3= np.sqrt(x3*x3+y3*y3)\n",
    "sigma3, mu3 = 3.0, 7.0\n",
    "g3 = np.exp(-( (d3-mu3)**2 / ( 2.0 * sigma3**2 ) ) )\n",
    "x4, y4 = np.meshgrid(np.linspace(-1,1,64), np.linspace(-1,1,64))\n",
    "d4= np.sqrt(x4*x4+y4*y4)\n",
    "sigma4, mu4 = 4.0, 9.0\n",
    "g4 = np.exp(-( (d4-mu4)**2 / ( 2.0 * sigma4**2 ) ) )\n",
    "x5, y5 = np.meshgrid(np.linspace(-1,1,64), np.linspace(-1,1,64))\n",
    "d5= np.sqrt(x5*x5+y5*y5)\n",
    "sigma5, mu5 = 5.0, 11.0\n",
    "g5 = np.exp(-( (d5-mu5)**2 / ( 2.0 * sigma5**2 ) ) )\n",
    "x6, y6 = np.meshgrid(np.linspace(-1,1,64), np.linspace(-1,1,64))\n",
    "d6= np.sqrt(x6*x6+y6*y6)\n",
    "sigma6, mu6 = 4.0, 13.0\n",
    "g6 = np.exp(-( (d6-mu6)**2 / ( 2.0 * sigma6**2 ) ) )\n",
    "g=g1+g2+g3+g4+g5\n",
    "print(\"2D Gaussian-like array:\")\n",
    "print(g)"
   ]
  },
  {
   "cell_type": "code",
   "execution_count": 50,
   "metadata": {
    "collapsed": true
   },
   "outputs": [],
   "source": [
    "import tensorflow as tf\n",
    "\n",
    "n_inputs = 64\n",
    "n_hidden = 3  # codings\n",
    "n_outputs = n_inputs\n",
    "\n",
    "learning_rate = 0.01 #how much to train \n",
    "tf.reset_default_graph()\n",
    "\n",
    "X = tf.placeholder(tf.float32, shape=[None, n_inputs])\n",
    "hidden = tf.layers.dense(X, n_hidden)\n",
    "outputs = tf.layers.dense(hidden, n_outputs)\n",
    "\n",
    "reconstruction_loss = tf.reduce_mean(tf.square(outputs - X))\n",
    "\n",
    "optimizer = tf.train.AdamOptimizer(learning_rate)\n",
    "training_op = optimizer.minimize(reconstruction_loss)\n",
    "\n",
    "init = tf.global_variables_initializer()"
   ]
  },
  {
   "cell_type": "code",
   "execution_count": 51,
   "metadata": {},
   "outputs": [
    {
     "name": "stdout",
     "output_type": "stream",
     "text": [
      "[[ 0.98455155  0.96526825  0.94657415 ...,  0.94638753  0.96549332\n",
      "   0.984689  ]\n",
      " [ 0.96551406  0.94621408  0.92751276 ...,  0.9273628   0.94639492\n",
      "   0.96562415]\n",
      " [ 0.94709766  0.92778134  0.90907323 ...,  0.90895849  0.92791975\n",
      "   0.9471814 ]\n",
      " ..., \n",
      " [ 0.94709766  0.92778134  0.90907323 ...,  0.90895849  0.92791975\n",
      "   0.9471814 ]\n",
      " [ 0.96551406  0.94621408  0.92751276 ...,  0.9273628   0.94639492\n",
      "   0.96562415]\n",
      " [ 0.98455155  0.96526825  0.94657415 ...,  0.94638753  0.96549332\n",
      "   0.984689  ]]\n"
     ]
    }
   ],
   "source": [
    "n_iterations = 10000\n",
    "\n",
    "with tf.Session() as sess:\n",
    "    init.run()\n",
    "    for iteration in range(n_iterations):\n",
    "        training_op.run(feed_dict={X: g})\n",
    "    writer = tf.summary.FileWriter('./temp', sess.graph)\n",
    "    outputs_val = outputs.eval(feed_dict={X: g})\n",
    "    print(outputs_val)"
   ]
  },
  {
   "cell_type": "code",
   "execution_count": 52,
   "metadata": {},
   "outputs": [
    {
     "data": {
      "text/plain": [
       "0.0015631059930334649"
      ]
     },
     "execution_count": 52,
     "metadata": {},
     "output_type": "execute_result"
    }
   ],
   "source": [
    "import numpy as np\n",
    "\n",
    "#recovered\n",
    "#data=scaler.inverse_transform(outputs_val,copy=None)\n",
    "#data\n",
    "orig=np.linalg.norm(outputs_val,ord=1)\n",
    "DiffData=g-outputs_val\n",
    "NewNorm=np.linalg.norm(DiffData,ord=1)\n",
    "error=NewNorm/orig \n",
    "error"
   ]
  },
  {
   "cell_type": "code",
   "execution_count": null,
   "metadata": {
    "collapsed": true
   },
   "outputs": [],
   "source": []
  },
  {
   "cell_type": "code",
   "execution_count": null,
   "metadata": {
    "collapsed": true
   },
   "outputs": [],
   "source": []
  },
  {
   "cell_type": "code",
   "execution_count": null,
   "metadata": {
    "collapsed": true
   },
   "outputs": [],
   "source": []
  }
 ],
 "metadata": {
  "kernelspec": {
   "display_name": "Python 3",
   "language": "python",
   "name": "python3"
  },
  "language_info": {
   "codemirror_mode": {
    "name": "ipython",
    "version": 3
   },
   "file_extension": ".py",
   "mimetype": "text/x-python",
   "name": "python",
   "nbconvert_exporter": "python",
   "pygments_lexer": "ipython3",
   "version": "3.6.3"
  }
 },
 "nbformat": 4,
 "nbformat_minor": 2
}
